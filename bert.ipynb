{
 "cells": [
  {
   "cell_type": "code",
   "execution_count": 2,
   "source": [
    "import os\r\n",
    "import torch\r\n",
    "from transformers import AutoModelForSequenceClassification, AutoTokenizer\r\n",
    "from sklearn.metrics import accuracy_score, precision_recall_fscore_support\r\n",
    "from transformers import Trainer, TrainingArguments\r\n",
    "from transformers import pipeline\r\n",
    "from datasets import load_dataset\r\n",
    "from sklearn.metrics import accuracy_score"
   ],
   "outputs": [],
   "metadata": {}
  },
  {
   "cell_type": "code",
   "execution_count": 3,
   "source": [
    "from datasets import list_datasets, load_dataset, list_metrics, load_metric\r\n",
    "train_dataset = load_dataset(\"imdb\",split=\"train[:20000]\")\r\n",
    "val_dataset = load_dataset(\"imdb\",split=\"train[20000:25000]\")\r\n",
    "test_dataset=load_dataset(\"imdb\",split=\"test[:5000]\")\r\n",
    "print(train_dataset.features)"
   ],
   "outputs": [
    {
     "output_type": "stream",
     "name": "stderr",
     "text": [
      "Using the latest cached version of the module from C:\\Users\\LEOVO\\.cache\\huggingface\\modules\\datasets_modules\\datasets\\imdb\\e3c66f1788a67a89c7058d97ff62b6c30531e05b549de56d3ab91891f0561f9a (last modified on Wed Aug 11 17:01:21 2021) since it couldn't be found locally at imdb\\imdb.py or remotely (ConnectionError).\n",
      "Using the latest cached version of the module from C:\\Users\\LEOVO\\.cache\\huggingface\\modules\\datasets_modules\\datasets\\imdb\\e3c66f1788a67a89c7058d97ff62b6c30531e05b549de56d3ab91891f0561f9a (last modified on Wed Aug 11 17:01:21 2021) since it couldn't be found locally at imdb\\imdb.py or remotely (ConnectionError).\n",
      "Reusing dataset imdb (C:\\Users\\LEOVO\\.cache\\huggingface\\datasets\\imdb\\plain_text\\1.0.0\\e3c66f1788a67a89c7058d97ff62b6c30531e05b549de56d3ab91891f0561f9a)\n",
      "Using the latest cached version of the module from C:\\Users\\LEOVO\\.cache\\huggingface\\modules\\datasets_modules\\datasets\\imdb\\e3c66f1788a67a89c7058d97ff62b6c30531e05b549de56d3ab91891f0561f9a (last modified on Wed Aug 11 17:01:21 2021) since it couldn't be found locally at imdb\\imdb.py or remotely (ConnectionError).\n",
      "Using the latest cached version of the module from C:\\Users\\LEOVO\\.cache\\huggingface\\modules\\datasets_modules\\datasets\\imdb\\e3c66f1788a67a89c7058d97ff62b6c30531e05b549de56d3ab91891f0561f9a (last modified on Wed Aug 11 17:01:21 2021) since it couldn't be found locally at imdb\\imdb.py or remotely (ConnectionError).\n",
      "Reusing dataset imdb (C:\\Users\\LEOVO\\.cache\\huggingface\\datasets\\imdb\\plain_text\\1.0.0\\e3c66f1788a67a89c7058d97ff62b6c30531e05b549de56d3ab91891f0561f9a)\n",
      "Using the latest cached version of the module from C:\\Users\\LEOVO\\.cache\\huggingface\\modules\\datasets_modules\\datasets\\imdb\\e3c66f1788a67a89c7058d97ff62b6c30531e05b549de56d3ab91891f0561f9a (last modified on Wed Aug 11 17:01:21 2021) since it couldn't be found locally at imdb\\imdb.py or remotely (ConnectionError).\n",
      "Using the latest cached version of the module from C:\\Users\\LEOVO\\.cache\\huggingface\\modules\\datasets_modules\\datasets\\imdb\\e3c66f1788a67a89c7058d97ff62b6c30531e05b549de56d3ab91891f0561f9a (last modified on Wed Aug 11 17:01:21 2021) since it couldn't be found locally at imdb\\imdb.py or remotely (ConnectionError).\n",
      "Reusing dataset imdb (C:\\Users\\LEOVO\\.cache\\huggingface\\datasets\\imdb\\plain_text\\1.0.0\\e3c66f1788a67a89c7058d97ff62b6c30531e05b549de56d3ab91891f0561f9a)\n"
     ]
    },
    {
     "output_type": "stream",
     "name": "stdout",
     "text": [
      "{'text': Value(dtype='string', id=None), 'label': ClassLabel(num_classes=2, names=['neg', 'pos'], names_file=None, id=None)}\n"
     ]
    }
   ],
   "metadata": {}
  },
  {
   "cell_type": "code",
   "execution_count": 4,
   "source": [
    "train_dataset = train_dataset.map(lambda examples: {'labels': examples['label']}, batched=True)\r\n",
    "train_dataset[0]"
   ],
   "outputs": [
    {
     "output_type": "stream",
     "name": "stderr",
     "text": [
      "Loading cached processed dataset at C:\\Users\\LEOVO\\.cache\\huggingface\\datasets\\imdb\\plain_text\\1.0.0\\e3c66f1788a67a89c7058d97ff62b6c30531e05b549de56d3ab91891f0561f9a\\cache-d2923ef276bb2dbe.arrow\n"
     ]
    },
    {
     "output_type": "execute_result",
     "data": {
      "text/plain": [
       "{'label': 1,\n",
       " 'labels': 1,\n",
       " 'text': 'Bromwell High is a cartoon comedy. It ran at the same time as some other programs about school life, such as \"Teachers\". My 35 years in the teaching profession lead me to believe that Bromwell High\\'s satire is much closer to reality than is \"Teachers\". The scramble to survive financially, the insightful students who can see right through their pathetic teachers\\' pomp, the pettiness of the whole situation, all remind me of the schools I knew and their students. When I saw the episode in which a student repeatedly tried to burn down the school, I immediately recalled ......... at .......... High. A classic line: INSPECTOR: I\\'m here to sack one of your teachers. STUDENT: Welcome to Bromwell High. I expect that many adults of my age think that Bromwell High is far fetched. What a pity that it isn\\'t!'}"
      ]
     },
     "metadata": {},
     "execution_count": 4
    }
   ],
   "metadata": {}
  },
  {
   "cell_type": "code",
   "execution_count": 5,
   "source": [
    "val_dataset = val_dataset.map(lambda examples: {'labels': examples['label']}, batched=True)\r\n",
    "test_dataset = test_dataset.map(lambda examples: {'labels': examples['label']}, batched=True)"
   ],
   "outputs": [
    {
     "output_type": "stream",
     "name": "stderr",
     "text": [
      "Loading cached processed dataset at C:\\Users\\LEOVO\\.cache\\huggingface\\datasets\\imdb\\plain_text\\1.0.0\\e3c66f1788a67a89c7058d97ff62b6c30531e05b549de56d3ab91891f0561f9a\\cache-b84e22827b727556.arrow\n",
      "Loading cached processed dataset at C:\\Users\\LEOVO\\.cache\\huggingface\\datasets\\imdb\\plain_text\\1.0.0\\e3c66f1788a67a89c7058d97ff62b6c30531e05b549de56d3ab91891f0561f9a\\cache-acc648cae1853c46.arrow\n"
     ]
    }
   ],
   "metadata": {}
  },
  {
   "cell_type": "code",
   "execution_count": 6,
   "source": [
    "model_id = 'prajjwal1/bert-tiny'\r\n",
    "model = AutoModelForSequenceClassification.from_pretrained(model_id, num_labels=train_dataset.features[\"label\"].num_classes)\r\n",
    "tokenizer = AutoTokenizer.from_pretrained(model_id)"
   ],
   "outputs": [
    {
     "output_type": "stream",
     "name": "stderr",
     "text": [
      "Some weights of the model checkpoint at prajjwal1/bert-tiny were not used when initializing BertForSequenceClassification: ['cls.predictions.decoder.bias', 'cls.predictions.transform.dense.weight', 'cls.predictions.transform.LayerNorm.weight', 'cls.predictions.bias', 'cls.predictions.transform.dense.bias', 'cls.predictions.transform.LayerNorm.bias', 'cls.seq_relationship.bias', 'cls.predictions.decoder.weight', 'cls.seq_relationship.weight']\n",
      "- This IS expected if you are initializing BertForSequenceClassification from the checkpoint of a model trained on another task or with another architecture (e.g. initializing a BertForSequenceClassification model from a BertForPreTraining model).\n",
      "- This IS NOT expected if you are initializing BertForSequenceClassification from the checkpoint of a model that you expect to be exactly identical (initializing a BertForSequenceClassification model from a BertForSequenceClassification model).\n",
      "Some weights of BertForSequenceClassification were not initialized from the model checkpoint at prajjwal1/bert-tiny and are newly initialized: ['classifier.weight', 'classifier.bias']\n",
      "You should probably TRAIN this model on a down-stream task to be able to use it for predictions and inference.\n"
     ]
    }
   ],
   "metadata": {}
  },
  {
   "cell_type": "code",
   "execution_count": 7,
   "source": [
    "MAX_LENGTH = 256\r\n",
    "train_dataset = train_dataset.map(lambda e: tokenizer(e['text'], truncation=True, padding='max_length', max_length=MAX_LENGTH), batched=True)\r\n",
    "val_dataset = val_dataset.map(lambda e: tokenizer(e['text'], truncation=True, padding='max_length', max_length=MAX_LENGTH), batched=True)\r\n",
    "test_dataset = test_dataset.map(lambda e: tokenizer(e['text'], truncation=True, padding='max_length', max_length=MAX_LENGTH), batched=True)\r\n"
   ],
   "outputs": [
    {
     "output_type": "stream",
     "name": "stderr",
     "text": [
      "Loading cached processed dataset at C:\\Users\\LEOVO\\.cache\\huggingface\\datasets\\imdb\\plain_text\\1.0.0\\e3c66f1788a67a89c7058d97ff62b6c30531e05b549de56d3ab91891f0561f9a\\cache-5e00ee5c23f0c28d.arrow\n",
      "Loading cached processed dataset at C:\\Users\\LEOVO\\.cache\\huggingface\\datasets\\imdb\\plain_text\\1.0.0\\e3c66f1788a67a89c7058d97ff62b6c30531e05b549de56d3ab91891f0561f9a\\cache-6e5cb76d06ab58fc.arrow\n",
      "Loading cached processed dataset at C:\\Users\\LEOVO\\.cache\\huggingface\\datasets\\imdb\\plain_text\\1.0.0\\e3c66f1788a67a89c7058d97ff62b6c30531e05b549de56d3ab91891f0561f9a\\cache-3957f7269d52a9f8.arrow\n"
     ]
    }
   ],
   "metadata": {}
  },
  {
   "cell_type": "code",
   "execution_count": 8,
   "source": [
    "train_dataset.set_format(type='torch', columns=['input_ids', 'token_type_ids', 'attention_mask', 'labels'])\r\n",
    "val_dataset.set_format(type='torch', columns=['input_ids', 'token_type_ids', 'attention_mask', 'labels'])\r\n",
    "test_dataset.set_format(type='torch', columns=['input_ids', 'token_type_ids', 'attention_mask', 'labels'])"
   ],
   "outputs": [],
   "metadata": {}
  },
  {
   "cell_type": "code",
   "execution_count": 9,
   "source": [
    "train_dataset.features"
   ],
   "outputs": [
    {
     "output_type": "execute_result",
     "data": {
      "text/plain": [
       "{'attention_mask': Sequence(feature=Value(dtype='int8', id=None), length=-1, id=None),\n",
       " 'input_ids': Sequence(feature=Value(dtype='int32', id=None), length=-1, id=None),\n",
       " 'label': ClassLabel(num_classes=2, names=['neg', 'pos'], names_file=None, id=None),\n",
       " 'labels': Value(dtype='int64', id=None),\n",
       " 'text': Value(dtype='string', id=None),\n",
       " 'token_type_ids': Sequence(feature=Value(dtype='int8', id=None), length=-1, id=None)}"
      ]
     },
     "metadata": {},
     "execution_count": 9
    }
   ],
   "metadata": {}
  },
  {
   "cell_type": "code",
   "execution_count": 10,
   "source": [
    "def compute_metrics(pred):\r\n",
    "    labels = pred.label_ids\r\n",
    "    preds = pred.predictions.argmax(-1)\r\n",
    "    precision, recall, f1, _ = precision_recall_fscore_support(labels, preds, average='macro')\r\n",
    "    acc = accuracy_score(labels, preds)\r\n",
    "    return {\r\n",
    "        'accuracy': acc,\r\n",
    "        'f1': f1,\r\n",
    "        'precision': precision,\r\n",
    "        'recall': recall\r\n",
    "    }"
   ],
   "outputs": [],
   "metadata": {}
  },
  {
   "cell_type": "code",
   "execution_count": 11,
   "source": [
    "training_args = TrainingArguments(\r\n",
    "    output_dir='./results',          # output directory\r\n",
    "    learning_rate=3e-4,\r\n",
    "    num_train_epochs=3,              # total number of training epochs\r\n",
    "    per_device_train_batch_size=64,  # batch size per device during training\r\n",
    "    per_device_eval_batch_size=64,   # batch size for evaluation\r\n",
    "    logging_dir='./logs',            # directory for storing logs\r\n",
    "    logging_steps=100,\r\n",
    "    do_train=True,\r\n",
    "    do_eval=True,\r\n",
    "    no_cuda=False,\r\n",
    "    load_best_model_at_end=True,\r\n",
    "    # eval_steps=100,\r\n",
    "    evaluation_strategy=\"epoch\"\r\n",
    ")\r\n",
    "\r\n",
    "trainer = Trainer(\r\n",
    "    model=model,                         # the instantiated 🤗 Transformers model to be trained\r\n",
    "    args=training_args,                  # training arguments, defined above\r\n",
    "    train_dataset=train_dataset,         # training dataset\r\n",
    "    eval_dataset=val_dataset,            # evaluation dataset\r\n",
    "    compute_metrics=compute_metrics\r\n",
    ")\r\n",
    "\r\n",
    "train_out = trainer.train()"
   ],
   "outputs": [
    {
     "output_type": "stream",
     "name": "stderr",
     "text": [
      " 11%|█         | 101/939 [00:18<02:19,  6.02it/s]"
     ]
    },
    {
     "output_type": "stream",
     "name": "stdout",
     "text": [
      "{'loss': 0.5451, 'learning_rate': 0.0002680511182108626, 'epoch': 0.32}\n"
     ]
    },
    {
     "output_type": "stream",
     "name": "stderr",
     "text": [
      " 21%|██▏       | 201/939 [00:34<02:04,  5.93it/s]"
     ]
    },
    {
     "output_type": "stream",
     "name": "stdout",
     "text": [
      "{'loss': 0.382, 'learning_rate': 0.00023610223642172524, 'epoch': 0.64}\n"
     ]
    },
    {
     "output_type": "stream",
     "name": "stderr",
     "text": [
      " 32%|███▏      | 301/939 [00:51<01:46,  5.98it/s]"
     ]
    },
    {
     "output_type": "stream",
     "name": "stdout",
     "text": [
      "{'loss': 0.3443, 'learning_rate': 0.00020415335463258783, 'epoch': 0.96}\n"
     ]
    },
    {
     "output_type": "stream",
     "name": "stderr",
     "text": [
      " 33%|███▎      | 312/939 [00:53<01:48,  5.79it/s]D:\\coding\\python\\lib\\site-packages\\sklearn\\metrics\\_classification.py:1248: UndefinedMetricWarning: Recall and F-score are ill-defined and being set to 0.0 in labels with no true samples. Use `zero_division` parameter to control this behavior.\n",
      "  _warn_prf(average, modifier, msg_start, len(result))\n",
      "\n",
      " 33%|███▎      | 313/939 [00:59<01:48,  5.79it/s]"
     ]
    },
    {
     "output_type": "stream",
     "name": "stdout",
     "text": [
      "{'eval_loss': 0.3222219944000244, 'eval_accuracy': 0.852, 'eval_f1': 0.4600431965442765, 'eval_precision': 0.5, 'eval_recall': 0.426, 'eval_runtime': 5.8608, 'eval_samples_per_second': 853.125, 'epoch': 1.0}\n"
     ]
    },
    {
     "output_type": "stream",
     "name": "stderr",
     "text": [
      " 43%|████▎     | 401/939 [01:14<01:32,  5.82it/s]"
     ]
    },
    {
     "output_type": "stream",
     "name": "stdout",
     "text": [
      "{'loss': 0.2742, 'learning_rate': 0.00017220447284345045, 'epoch': 1.28}\n"
     ]
    },
    {
     "output_type": "stream",
     "name": "stderr",
     "text": [
      " 53%|█████▎    | 501/939 [01:31<01:19,  5.49it/s]"
     ]
    },
    {
     "output_type": "stream",
     "name": "stdout",
     "text": [
      "{'loss': 0.2443, 'learning_rate': 0.0001402555910543131, 'epoch': 1.6}\n"
     ]
    },
    {
     "output_type": "stream",
     "name": "stderr",
     "text": [
      " 64%|██████▍   | 600/939 [01:49<01:09,  4.90it/s]"
     ]
    },
    {
     "output_type": "stream",
     "name": "stdout",
     "text": [
      "{'loss': 0.2356, 'learning_rate': 0.00010830670926517571, 'epoch': 1.92}\n"
     ]
    },
    {
     "output_type": "stream",
     "name": "stderr",
     "text": [
      " 67%|██████▋   | 625/939 [01:54<00:55,  5.65it/s]D:\\coding\\python\\lib\\site-packages\\sklearn\\metrics\\_classification.py:1248: UndefinedMetricWarning: Recall and F-score are ill-defined and being set to 0.0 in labels with no true samples. Use `zero_division` parameter to control this behavior.\n",
      "  _warn_prf(average, modifier, msg_start, len(result))\n",
      "\n",
      " 67%|██████▋   | 626/939 [02:01<00:55,  5.65it/s]"
     ]
    },
    {
     "output_type": "stream",
     "name": "stdout",
     "text": [
      "{'eval_loss': 0.4653770923614502, 'eval_accuracy': 0.816, 'eval_f1': 0.44933920704845814, 'eval_precision': 0.5, 'eval_recall': 0.408, 'eval_runtime': 6.5972, 'eval_samples_per_second': 757.896, 'epoch': 2.0}\n"
     ]
    },
    {
     "output_type": "stream",
     "name": "stderr",
     "text": [
      " 75%|███████▍  | 701/939 [02:13<00:41,  5.73it/s]"
     ]
    },
    {
     "output_type": "stream",
     "name": "stdout",
     "text": [
      "{'loss': 0.1849, 'learning_rate': 7.635782747603833e-05, 'epoch': 2.24}\n"
     ]
    },
    {
     "output_type": "stream",
     "name": "stderr",
     "text": [
      " 85%|████████▌ | 801/939 [02:30<00:25,  5.50it/s]"
     ]
    },
    {
     "output_type": "stream",
     "name": "stdout",
     "text": [
      "{'loss': 0.1611, 'learning_rate': 4.440894568690095e-05, 'epoch': 2.56}\n"
     ]
    },
    {
     "output_type": "stream",
     "name": "stderr",
     "text": [
      " 96%|█████████▌| 901/939 [02:48<00:06,  5.91it/s]"
     ]
    },
    {
     "output_type": "stream",
     "name": "stdout",
     "text": [
      "{'loss': 0.1577, 'learning_rate': 1.2460063897763577e-05, 'epoch': 2.88}\n"
     ]
    },
    {
     "output_type": "stream",
     "name": "stderr",
     "text": [
      "100%|█████████▉| 938/939 [02:54<00:00,  6.14it/s]D:\\coding\\python\\lib\\site-packages\\sklearn\\metrics\\_classification.py:1248: UndefinedMetricWarning: Recall and F-score are ill-defined and being set to 0.0 in labels with no true samples. Use `zero_division` parameter to control this behavior.\n",
      "  _warn_prf(average, modifier, msg_start, len(result))\n",
      "\n",
      "100%|██████████| 939/939 [03:00<00:00,  6.14it/s]"
     ]
    },
    {
     "output_type": "stream",
     "name": "stdout",
     "text": [
      "{'eval_loss': 0.5265847444534302, 'eval_accuracy': 0.8222, 'eval_f1': 0.45121281966853255, 'eval_precision': 0.5, 'eval_recall': 0.4111, 'eval_runtime': 5.9288, 'eval_samples_per_second': 843.334, 'epoch': 3.0}\n"
     ]
    },
    {
     "output_type": "stream",
     "name": "stderr",
     "text": [
      "100%|██████████| 939/939 [03:00<00:00,  5.20it/s]"
     ]
    },
    {
     "output_type": "stream",
     "name": "stdout",
     "text": [
      "{'train_runtime': 180.4367, 'train_samples_per_second': 5.204, 'epoch': 3.0}\n"
     ]
    },
    {
     "output_type": "stream",
     "name": "stderr",
     "text": [
      "\n"
     ]
    }
   ],
   "metadata": {}
  },
  {
   "cell_type": "code",
   "execution_count": 12,
   "source": [
    "model = model.cpu()\r\n",
    "classifier = pipeline('sentiment-analysis', model=model, tokenizer=tokenizer)"
   ],
   "outputs": [],
   "metadata": {}
  },
  {
   "cell_type": "code",
   "execution_count": 18,
   "source": [
    "test_dataset = load_dataset(\"imdb\",split=\"test[5000:10000]\")\r\n",
    "test_examples= test_dataset[0:10]"
   ],
   "outputs": [
    {
     "output_type": "stream",
     "name": "stderr",
     "text": [
      "Using the latest cached version of the module from C:\\Users\\LEOVO\\.cache\\huggingface\\modules\\datasets_modules\\datasets\\imdb\\e3c66f1788a67a89c7058d97ff62b6c30531e05b549de56d3ab91891f0561f9a (last modified on Wed Aug 11 17:01:21 2021) since it couldn't be found locally at imdb\\imdb.py or remotely (ConnectionError).\n",
      "Using the latest cached version of the module from C:\\Users\\LEOVO\\.cache\\huggingface\\modules\\datasets_modules\\datasets\\imdb\\e3c66f1788a67a89c7058d97ff62b6c30531e05b549de56d3ab91891f0561f9a (last modified on Wed Aug 11 17:01:21 2021) since it couldn't be found locally at imdb\\imdb.py or remotely (ConnectionError).\n",
      "Reusing dataset imdb (C:\\Users\\LEOVO\\.cache\\huggingface\\datasets\\imdb\\plain_text\\1.0.0\\e3c66f1788a67a89c7058d97ff62b6c30531e05b549de56d3ab91891f0561f9a)\n"
     ]
    },
    {
     "output_type": "execute_result",
     "data": {
      "text/plain": [
       "{'text': [\"I saw Two Hands back in Sydney a few years ago and it instantly became one of my all-time favourite films. It's got action, adventure, comedy and romance all rolled up into one (and a bit of zen thrown in for good measure). Like much Australian film, the plot is easy to follow yet wonderfully engaging, and Jordan should justly feel proud of his work.<br /><br />Anyway, it was on TV just now on Channel 4 in London, and my two favourite comedy scenes of not just this movie, but indeed any movie, had been cut out! So if you watch this movie, make sure it's the original version.\",\n",
       "  \"I'm afraid I must disagree with Mr. Radcliffe, as although he is correct in saying this isn't a comedy, it has many other merits. The plot is a little mad at parts, but I believe it it all fits together nicely, creating a satisfying, enjoyable film. The last scene was rather abysmal compared to the rest of the film, but the actual ending of the plot a few scenes previously is very interesting, showing just what someone will do under stressful circumstances.<br /><br />I would recommend this film to fans of thrillers and action movies, but if you're a fan of gangster movies then as long as you don't expect expect something as deep as Goodfellas then you should still find it enjoyable.\",\n",
       "  \"Brilliant film! I am sorry to say that it resembles to me a bit like Pulp F. but thats how it is with post pulp era. Many pictures get automatically likened to it for only being a gangster flick. But this one is well written, funny coincidences, ordinary gangsters who are family men, resemble something from Tarantino, which is a good similarity!<br /><br />Anyway the film's about a guy bloke in Australia which is getting mixed up with a hard- core crime gang, and ends up in a debt and deep s*it. To his assistance is his deceased brother (anyone remember Val Kilmer in True R.?) to pay of his debt and escape from the gangsters who are on his trail. The gangsters are cold blooded, but take the time to play chess and focus on the upbringing of their children! They also get served tea from their granny while planning a bank robbery and have trouble what to do with their kids during the robbery. So a humorous gangster flick with Heath Ledger in good form (though I'm not a fan) , and Bryan Brown in great action as a gang leader.\",\n",
       "  \"Two Hands is a highly enjoyable Aussie crime caper, which ultimately succeeds by the way the film easily combines tense dramatic moments, with very funny characters and situations, to give the film the right balance and feel. The comedy of the film occurs naturally, and the laughs haven't been set up too elaborately & haven't been too worked at. It really is very funny, thanks to the fact that each character in the movie is excellently cast, and that each actor/actress recognises and can relate to the Aussie humor. They portray it very well and very realistically. Of course, they're helped out immensely by a fantastic script by writer/director Gregor Jordan. I was reading another review of this film by an American who had seen it, and he heavily criticised it, basically passing it off as a Pulp Fiction clone. I think that that's just rubbish. This film isn't trying to be Pulp Fiction, the feel and style of each of this excellent films are totally opposite. Without wanting to sound superior or arrogant, I think to fully understand this film; the humor, the sincerity, the characters, etc....you have to be Australian, or at least understand the culture, which the other guy obviously didn't have the faintest clue about. Some Americans, whose reviews of certain non-American films, seem ignorant to (and have trouble comprehending) anything that isn't an American product. It's a real shame, because this is a really great film. The love story featured between the main character and the girl is also portrayed in a very real, sincere and sweet way. I'm very proud to have this film in my collection. 4.5 out of 5.\",\n",
       "  \"Having seen, and loved this film in Australia, I was very keen to get me paws on a copy. I got one on DVD back in the UK only to find that it's a very different edit.<br /><br />The domestic Australain edit I saw is snappier. The UK ,and I presume European, edits spends a lot longer on the narrator played by Jimmy's dead brother.And in truth belabours that and few other points to no real benefit.<br /><br />It is not a serious criticism, but the Oz edit is just brisker and I think more assured.<br /><br />I can't say why they felt it needed expansion for the overseas market?<br /><br />So careful about which one you go for.<br /><br />I went for both.\",\n",
       "  \"Mild Spoilers<br /><br />....and that's 'top ten of all time.' I stumbled across 'Two Hands' by accident (maybe that made it all the more special -- no inflated expectations) on IFC one night, and couldn't believe that I hadn't heard anything about it. Now that Heath Ledger is getting more famous in the USA, I'm sure it's more available. At the time, I was telling friends about the film, and no one could find it anywhere except the occasional IFC showing.<br /><br />Anyway, in the black-comedy/gangster genre it fits in well with my other favorites, and everybody in the film really seems to end up with what they deserve. Bryan Brown is hilarious as the main gangster who makes origami with his small son and plays scrabble with his henchmen. Also hilarious is the quick-edit fate of a random car thief. Even Heath was pretty good in it. At the time, I vaguely remembered him from a short-lived series on Fox called 'Roar.' Hopefully Gregor Jordan will make another hit, but as far as I'm concerned, this is his best yet.\",\n",
       "  \"So I turned on the TV today at 1:00 PM on a Sunday, expecting to see crap and infomercials, and this great movie was just starting, didn't know what it was but drew me in almost immediately. The movie was excellent.<br /><br />there were a couple of things that didn't make sense for one I don't get why the dead guy was talking about doing stuff to get yourself out of your bad situation, but then Jimmy doesn't really do anything except the basic stuff to survive that anyone would do in his situation, in other words it wasn't his initiative that got him out of his bad situation it was just luck, second I don't get the thing about the girl killing the the gangsters at the end, because the whole thing was partly casued by the thief people stealing Panda's money, and then the other thief kills Panda at the end, so they steal his money twice, and kill him how is that good?\",\n",
       "  \"This deceptively laid-back, low-key, casually paced Aussie crime thriller unravels with a casual ease and relaxed self-confidence that's a delight to behold. Eager beaver working class kid Jimmy (an appealingly feckless Heath Ledger) yearns to make something out of his unrewarding ordinary life. Jimmy gets his big break when local crime kingpin Pando (an outstanding Bryan Brown) assigns him an easy courier gig which entails delivering $10 grand to an old lady. Jimmy finds himself knee deep in serious trouble when he loses Pando's money. Writer/director Gregor Jordan's engagingly simple tale of how things aren't always what they're cracked up to be, young love, all actions having consequences and that hoary old chestnut about how crime doesn't pay works like a charm thanks to a wonderful wealth of well-observed minor quirky details, a strong subtext concerning man's duel capacity for both good and evil, a nice sense of unforced irony, the chillingly matter-of-fact way the violence is presented, and the marvelous grounding of the assorted complexly drawn warts'n'all low-life characters in an instantly recognizable and totally believable banal day-to-day reality (e.g., Panda is shown playing Scrabble with a flunky and at one point interrupts a business conversation with a fellow hood to talk with his son over the phone). Judging from his finely shaded and two-fisted portrayal of the cunning, not to be trifled with Pando, Bryan Brown undoubtedly qualifies as one of the finest actors to ever grace celluloid. A sturdy and satisfying little sleeper.\",\n",
       "  '\"Two Hands\" is a hilarious Australian gangster movie set in really sultry Sydney. I bet tourists never envisage Sydney and Bondi to look like it did in this film: all sweaty bodies, oppressive nighttime and gangsters in nylon shorts and jandals. Heath Ledger plays an amateur boxer with an eye on becoming part of the local King\\'s Cross boss\\'s gang. He looked rather magnificent in his green wife beater and blue patterned budgie smuggler. A sweaty tattooed bod does become him. I always had him down as a \"Home & Away\" boy, and he has been in that soap, which is a little sweatier than the Weetbix-insipid \"Neighbours\". The film is really worth watching for its combination of sardonic humour and nasty violence - the drowning scene is expected to give me nightmares soon. Totty awards: Country girl love interest city brother and tattooed streetkid.',\n",
       "  \"I had never heard of this movie, but I like Heath Ledger and Bryan Brown and the story sounded interesting, so I figured I'd give it a shot. I found it to be very enjoyable. Heath Ledger plays a 19 year old who works a kind of crappy job and wants to start making some serious dough, so he goes and asks for work from mobster Bryan Brown. I won't go into details but things go very bad for Ledger and gets into big trouble with Bryan Brown. From their on the movie just gets better and better, with one scene involving Ledger hooking up with a pair of bank robbers. And lets not forget the beautiful Rose Byrne, who plays Ledger's love interest. I would definitely recommend this movie.\"],\n",
       " 'label': [1, 1, 1, 1, 1, 1, 1, 1, 1, 1]}"
      ]
     },
     "metadata": {},
     "execution_count": 18
    }
   ],
   "metadata": {}
  },
  {
   "cell_type": "code",
   "execution_count": 19,
   "source": [
    "result1 = classifier(test_examples['text'])\r\n",
    "result1"
   ],
   "outputs": [
    {
     "output_type": "execute_result",
     "data": {
      "text/plain": [
       "[{'label': 'LABEL_1', 'score': 0.9642220139503479},\n",
       " {'label': 'LABEL_1', 'score': 0.6508885025978088},\n",
       " {'label': 'LABEL_1', 'score': 0.7734971046447754},\n",
       " {'label': 'LABEL_1', 'score': 0.9583570957183838},\n",
       " {'label': 'LABEL_1', 'score': 0.9231916069984436},\n",
       " {'label': 'LABEL_1', 'score': 0.6773099303245544},\n",
       " {'label': 'LABEL_0', 'score': 0.9083000421524048},\n",
       " {'label': 'LABEL_1', 'score': 0.8726427555084229},\n",
       " {'label': 'LABEL_1', 'score': 0.785653829574585},\n",
       " {'label': 'LABEL_0', 'score': 0.5686978697776794}]"
      ]
     },
     "metadata": {},
     "execution_count": 19
    }
   ],
   "metadata": {}
  },
  {
   "cell_type": "code",
   "execution_count": 33,
   "source": [
    "example_texts=[i[0:MAX_LENGTH*7] for i in test_examples['text']]\r\n",
    "result1=classifier(example_texts)\r\n",
    "example_label=test_examples['label']\r\n",
    "# example_pred=[]\r\n",
    "# for i in result1:\r\n",
    "#     if i['label']==\"LABEL_0\":\r\n",
    "#         example_pred.append(0)\r\n",
    "#     else:\r\n",
    "#         example_pred.append(1)\r\n",
    "example_pred=[int(i['label'].split('_')[1]) for i in result1]\r\n",
    "print(accuracy_score(example_label,example_pred))"
   ],
   "outputs": [
    {
     "output_type": "stream",
     "name": "stdout",
     "text": [
      "0.8\n"
     ]
    }
   ],
   "metadata": {}
  },
  {
   "cell_type": "code",
   "execution_count": 34,
   "source": [
    "test_texts=[i[0:MAX_LENGTH*2] for i in test_dataset['text']]\r\n",
    "temp_pred=classifier(test_texts)\r\n",
    "y_test=test_dataset['label']\r\n",
    "y_pred=[int(i['label'].split('_')[1]) for i in temp_pred]\r\n",
    "print(accuracy_score(y_test,y_pred))"
   ],
   "outputs": [
    {
     "output_type": "stream",
     "name": "stdout",
     "text": [
      "0.8312\n"
     ]
    }
   ],
   "metadata": {}
  }
 ],
 "metadata": {
  "orig_nbformat": 4,
  "language_info": {
   "name": "python",
   "version": "3.9.6",
   "mimetype": "text/x-python",
   "codemirror_mode": {
    "name": "ipython",
    "version": 3
   },
   "pygments_lexer": "ipython3",
   "nbconvert_exporter": "python",
   "file_extension": ".py"
  },
  "kernelspec": {
   "name": "python3",
   "display_name": "Python 3.9.6 64-bit"
  },
  "interpreter": {
   "hash": "4876ff34b70794a54711585a56035755ce9dd6f9a98e80662ac35fb37c287d01"
  }
 },
 "nbformat": 4,
 "nbformat_minor": 2
}